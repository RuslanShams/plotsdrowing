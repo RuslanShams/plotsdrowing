{
  "metadata": {
    "language_info": {
      "codemirror_mode": {
        "name": "python",
        "version": 3
      },
      "file_extension": ".py",
      "mimetype": "text/x-python",
      "name": "python",
      "nbconvert_exporter": "python",
      "pygments_lexer": "ipython3",
      "version": "3.8"
    },
    "kernelspec": {
      "name": "python",
      "display_name": "Python (Pyodide)",
      "language": "python"
    }
  },
  "nbformat_minor": 4,
  "nbformat": 4,
  "cells": [
    {
      "cell_type": "code",
      "source": "import pandas as pd\nimport matplotlib.pyplot as plt\nfrom itertools import cycle\nimport os\n\n\n# During initialization, the class creates a DataFrame object from the json file\n# (by default, \"deviation.json\", you can optionally enter your path to file),\n# renames the table columns that have the name of the DataFrame class methods.\nclass DrawingPlots:\n\n    def __init__(self, filename='deviation.json') -> None:\n        self.data_frame = pd.read_json(filename)\n        self.data_frame = self.data_frame.rename(columns={'mean': 'floor_vs_ceiling_mean',\n                                                          'max': 'floor_vs_ceiling_max',\n                                                          'min': 'floor_vs_ceiling_min'})\n        try:\n            os.mkdir('plots')\n        except:\n            pass\n\n    # calculates the necessary values (average, maximum, minimum column values) for plotting and returns a dictionary\n    def necessary_data_elements(self) -> dict:\n        necessary_data_dict = {\n            'total_mean_values': {column: self.data_frame[column].mean() for column in\n                                  self.data_frame.columns[3:6]}}\n\n        necessary_data_dict['floor_ceiling_minmax_values'] = {\n            column: (self.data_frame[column].min(), self.data_frame[column].max()) for column in\n            self.data_frame.columns[6:]}\n\n        return necessary_data_dict\n\n    # draw plots and returns path to plots images png format\n    def draw_plots(self) -> str:\n        necessary_data_dict = self.necessary_data_elements()\n        plots_names = ('Floor mean column dataset (Red line is mean value of column \\\"mean\\\")',\n                       'Floor max column dataset (Red line is mean value of column \\\"max\\\")',\n                       'Floor min column dataset (Red line is mean value of column \\\"min\\\")',\n                       'Ceiling mean column dataset (Red line is mean value of column \\\"mean\\\")',\n                       'Ceiling max column dataset (Red line is mean value of column \\\"max\\\")',\n                       'Ceiling min column dataset (Red line is mean value of column \\\"min\\\")')\n\n        for name, column, mean_values, min_max in zip(plots_names, self.data_frame.columns[6:],\n                                                      cycle(necessary_data_dict['total_mean_values'].values()),\n                                                      necessary_data_dict['floor_ceiling_minmax_values'].values()):\n            plt.title(name)\n            plt.ylim(min_max[0] - 10, min_max[1] + 10)\n            plt.scatter(x=self.data_frame.index, y=self.data_frame[column])\n            plt.hlines(y=mean_values, xmin=0, xmax=len(self.data_frame[column]), colors='r')\n            plt.savefig(f'plots/{name}.png')\n            plt.show()\n\n        return os.path.abspath('plots')\n\n\nd = DrawingPlots()\nprint(d.draw_plots())",
      "metadata": {},
      "execution_count": null,
      "outputs": []
    }
  ]
}